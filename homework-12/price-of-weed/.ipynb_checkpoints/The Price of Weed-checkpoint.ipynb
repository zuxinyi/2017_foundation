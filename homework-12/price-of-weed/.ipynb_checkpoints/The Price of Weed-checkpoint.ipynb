{
 "cells": [
  {
   "attachments": {},
   "cell_type": "markdown",
   "metadata": {},
   "source": [
    "# Exercise: The Price of Weed\n",
    "\n",
    "#### Summary\n",
    "\n",
    "Find out how marijuana prices change over time and place in the United States\n",
    "\n",
    "#### Data Source(s)\n",
    "\n",
    "Data scraped from http://www.priceofweed.com/, GitHub repository at, https://github.com/frankbi/price-of-weed\n",
    "\n",
    "Marijuana laws by state from https://data.world/sya/marijuana-laws-by-state\n",
    "\n",
    "#### Files\n",
    "\n",
    "- Lots of csvs in data/, formatted at DDMMYYY.csv, daily prices for different states\n",
    "- `state_marijuana_laws_10_2016.csv`, marijuana laws by state\n",
    "\n",
    "#### Data dictionary\n",
    "\n",
    "- **State** the state name\n",
    "- **HighQ** high quality marijuana, price per ounce\n",
    "- **HighQN** high quality marijuana, sample size \n",
    "- **MedQ** medium quality marijuana, price per ounce\n",
    "- **MedQN** medium quality marijuana, sample size\n",
    "- **LowQ** low quality marijuana, price per ounce\n",
    "- **LowQN** low quality marijuana, sample size\n",
    "\n",
    "#### Skills\n",
    "\n",
    "- Reading in many many files\n",
    "- Combining multiple dataframes\n",
    "- Cleaning up columns\n",
    "- Customizing matplotlib graphs"
   ]
  },
  {
   "cell_type": "markdown",
   "metadata": {},
   "source": [
    "# Read in `data/weedprices01012015.csv`"
   ]
  },
  {
   "cell_type": "code",
   "execution_count": null,
   "metadata": {},
   "outputs": [],
   "source": []
  },
  {
   "cell_type": "markdown",
   "metadata": {},
   "source": [
    "## Cleaning things up\n",
    "\n",
    "I have no idea what the whole \"I feel bad for these guys\" means, but *it certainly isn't good data*. It should probably be NaN instead: I'll let you decide how you're going to fix that one."
   ]
  },
  {
   "cell_type": "code",
   "execution_count": null,
   "metadata": {
    "collapsed": true
   },
   "outputs": [],
   "source": []
  },
  {
   "cell_type": "markdown",
   "metadata": {},
   "source": [
    "## Graph the top 10 least expensive states for high quality marijuana"
   ]
  },
  {
   "cell_type": "code",
   "execution_count": null,
   "metadata": {},
   "outputs": [],
   "source": []
  },
  {
   "cell_type": "markdown",
   "metadata": {},
   "source": [
    "## Graph the top 5 least expensive and the top 5 most expensive states for high quality marijuana, in one graph\n",
    "\n",
    "You'll probably need to make a new dataframe out of the first 5 and last 5."
   ]
  },
  {
   "cell_type": "code",
   "execution_count": null,
   "metadata": {},
   "outputs": [],
   "source": []
  },
  {
   "cell_type": "markdown",
   "metadata": {},
   "source": [
    "## Now go back and make one of those graphs look nice!\n",
    "\n",
    "- Add a title\n",
    "- Add a label to the bottom axis\n",
    "- Remove the label on the left axis\n",
    "- Remove the legend\n",
    "- Get rid of the boxes around everything\n",
    "- Remove most of the tick marks\n",
    "- Add dollar signs for the bottom\n",
    "\n",
    "For tips, just ask me and/or use\n",
    "\n",
    "- https://matplotlib.org/gallery.html\n",
    "- Especially https://matplotlib.org/examples/ticks_and_spines/spines_demo.html\n",
    "\n",
    "To format numbers, you can use something that might look a little familiar\n",
    "\n",
    "```python\n",
    "import matplotlib.ticker as ticker\n",
    "ax.xaxis.set_major_formatter(ticker.StrMethodFormatter(\"${x:,.0f}\"))\n",
    "```"
   ]
  },
  {
   "cell_type": "code",
   "execution_count": null,
   "metadata": {},
   "outputs": [],
   "source": []
  },
  {
   "cell_type": "markdown",
   "metadata": {},
   "source": [
    "# Reading in many many files\n",
    "\n",
    "## Finding the filenames\n",
    "\n",
    "Make a list of the filenames of every single CSV files inside of the `data` directory. Don't type them out.\n",
    "\n",
    "If you do this correctly you will have a list of **491** filenames."
   ]
  },
  {
   "cell_type": "code",
   "execution_count": null,
   "metadata": {},
   "outputs": [],
   "source": []
  },
  {
   "cell_type": "markdown",
   "metadata": {},
   "source": [
    "## Turn them into dataframes\n",
    "\n",
    "Read each of them in, converting them to a **list of dataframes**. Save as `price_dfs`.\n",
    "\n",
    "- Tip: List comprehensions would be good here"
   ]
  },
  {
   "cell_type": "code",
   "execution_count": null,
   "metadata": {
    "collapsed": true
   },
   "outputs": [],
   "source": []
  },
  {
   "cell_type": "markdown",
   "metadata": {},
   "source": [
    "## Examing the results\n",
    "\n",
    "Look at the first 2 rows of the first dataframe.\n",
    "\n",
    "Look at the first 2 rows of the last dataframe.\n",
    "\n",
    "**If we combined them, could we tell them apart?**"
   ]
  },
  {
   "cell_type": "code",
   "execution_count": null,
   "metadata": {},
   "outputs": [],
   "source": []
  },
  {
   "cell_type": "code",
   "execution_count": null,
   "metadata": {},
   "outputs": [],
   "source": []
  },
  {
   "cell_type": "markdown",
   "metadata": {},
   "source": [
    "## Making them identifiable\n",
    "\n",
    "Each dataframe needs to have a column thats says the date. Or, actually... let's just save the filename as a column.\n",
    "\n",
    "You **could** do it like this.\n",
    "\n",
    "```python\n",
    "# Take the first dataframe, which was made from the first filename\n",
    "# Create a new 'filename' column using the first filename\n",
    "price_dfs[0]['filename'] = filenames[0]\n",
    "# Take the second dataframe, which was made from the second filename\n",
    "# Create a new 'filename' column using the second filename\n",
    "price_dfs[1]['filename'] = filenames[1]\n",
    "# Take the third dataframe, which was made from the third filename\n",
    "# Create a new 'filename' column using the third filename\n",
    "price_dfs[2]['filename'] = filenames[2]\n",
    "```\n",
    "\n",
    "But that way is **not any fun**, and would take too long. I have a faster way."
   ]
  },
  {
   "cell_type": "code",
   "execution_count": null,
   "metadata": {
    "collapsed": true
   },
   "outputs": [],
   "source": []
  },
  {
   "cell_type": "markdown",
   "metadata": {},
   "source": [
    "## Combine all 491 dataframes into one dataframe\n",
    "\n",
    "Confirm it has **24990 rows and 8 columns.**"
   ]
  },
  {
   "cell_type": "code",
   "execution_count": null,
   "metadata": {},
   "outputs": [],
   "source": []
  },
  {
   "cell_type": "code",
   "execution_count": null,
   "metadata": {},
   "outputs": [],
   "source": []
  },
  {
   "cell_type": "code",
   "execution_count": null,
   "metadata": {},
   "outputs": [],
   "source": []
  },
  {
   "cell_type": "markdown",
   "metadata": {},
   "source": [
    "## Pull out the day, month and year from each filename\n",
    "\n",
    "Do **not** store it back yet!"
   ]
  },
  {
   "cell_type": "code",
   "execution_count": null,
   "metadata": {},
   "outputs": [],
   "source": []
  },
  {
   "cell_type": "markdown",
   "metadata": {},
   "source": [
    "## Okay, now add all three columns back at once\n",
    "\n",
    "You should rename the columns first!"
   ]
  },
  {
   "cell_type": "code",
   "execution_count": null,
   "metadata": {
    "collapsed": true
   },
   "outputs": [],
   "source": []
  },
  {
   "cell_type": "markdown",
   "metadata": {},
   "source": [
    "## Plot the change in marijuana prices in Oregon over time"
   ]
  },
  {
   "cell_type": "code",
   "execution_count": null,
   "metadata": {
    "collapsed": true
   },
   "outputs": [],
   "source": []
  },
  {
   "cell_type": "markdown",
   "metadata": {},
   "source": [
    "## Plot the change in marijuana prices in all states over time"
   ]
  },
  {
   "cell_type": "code",
   "execution_count": null,
   "metadata": {
    "collapsed": true
   },
   "outputs": [],
   "source": []
  }
 ],
 "metadata": {
  "kernelspec": {
   "display_name": "Python 3",
   "language": "python",
   "name": "python3"
  },
  "language_info": {
   "codemirror_mode": {
    "name": "ipython",
    "version": 3
   },
   "file_extension": ".py",
   "mimetype": "text/x-python",
   "name": "python",
   "nbconvert_exporter": "python",
   "pygments_lexer": "ipython3",
   "version": "3.6.1"
  }
 },
 "nbformat": 4,
 "nbformat_minor": 2
}
