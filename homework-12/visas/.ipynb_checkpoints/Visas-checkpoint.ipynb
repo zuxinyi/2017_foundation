{
 "cells": [
  {
   "cell_type": "markdown",
   "metadata": {},
   "source": [
    "# Exercise: Visas over time\n",
    "\n",
    "#### Summary\n",
    "\n",
    "Find out how visas issued by the US have changed over time.\n",
    "\n",
    "#### Data Source(s)\n",
    "\n",
    "Nonimmigrant Visa Issuances by Visa Class and by Nationality, 1999+, https://travel.state.gov/content/visas/en/law-and-policy/statistics/non-immigrant-visas.html\n",
    "\n",
    "#### Files\n",
    "\n",
    "- FYs97-16_NIVDetailTable.xls, \"Nonimmigrant Visa Issuances by Visa Class and by Nationality, 1999+\"\n",
    "\n",
    "#### Skills\n",
    "\n",
    "- Excel files with multiple sheets\n",
    "- Combining multiple dataframes\n",
    "- Filling in null values (filling down)\n",
    "- Dropping and filtering rows\n",
    "- Renaming columns\n",
    "- Looping to clean a sheet\n",
    "- Customizing matplotlib graphs"
   ]
  },
  {
   "cell_type": "markdown",
   "metadata": {},
   "source": [
    "# Read in FYs97-16_NIVDetailTable.xls, but only the 1999 data"
   ]
  },
  {
   "cell_type": "code",
   "execution_count": null,
   "metadata": {},
   "outputs": [],
   "source": []
  },
  {
   "cell_type": "markdown",
   "metadata": {},
   "source": [
    "## Look at the first couple rows to confirm it's the 1999 data\n",
    "\n",
    "Don't worry that it's missing a lot of data yet."
   ]
  },
  {
   "cell_type": "code",
   "execution_count": null,
   "metadata": {},
   "outputs": [],
   "source": []
  },
  {
   "cell_type": "markdown",
   "metadata": {},
   "source": [
    "## Confirm that you have 90 columns and 217 rows"
   ]
  },
  {
   "cell_type": "code",
   "execution_count": null,
   "metadata": {},
   "outputs": [],
   "source": []
  },
  {
   "cell_type": "markdown",
   "metadata": {},
   "source": [
    "## List all of the columns and their datatype\n",
    "\n",
    "You'll need to change a pandas display option to make sure you can see all of them. **Make sure there is not a `...` in the middle**."
   ]
  },
  {
   "cell_type": "code",
   "execution_count": null,
   "metadata": {},
   "outputs": [],
   "source": []
  },
  {
   "cell_type": "markdown",
   "metadata": {},
   "source": [
    "## Rename the \"Fiscal Year 1999\" row to be \"Country\""
   ]
  },
  {
   "cell_type": "code",
   "execution_count": null,
   "metadata": {
    "collapsed": true
   },
   "outputs": [],
   "source": []
  },
  {
   "cell_type": "markdown",
   "metadata": {},
   "source": [
    "## Look at the first 2 rows to make sure you renamed it correctly"
   ]
  },
  {
   "cell_type": "code",
   "execution_count": null,
   "metadata": {},
   "outputs": [],
   "source": []
  },
  {
   "cell_type": "markdown",
   "metadata": {},
   "source": [
    "# Finding the dirty data\n",
    "\n",
    "Usually we clean up columns with bad data, but this time **it's the rows that are bad**.\n",
    "\n",
    "## Look at the first five rows. How can you identify the \"bad\" row?\n",
    "\n",
    "There is one near the top and a few near the bottom."
   ]
  },
  {
   "cell_type": "code",
   "execution_count": null,
   "metadata": {},
   "outputs": [],
   "source": []
  },
  {
   "cell_type": "markdown",
   "metadata": {},
   "source": [
    "## Find all of the \"bad\" rows based on what you decided was unique about the \"bad\" row\n",
    "\n",
    "You should get **14 rows and 90 columns**."
   ]
  },
  {
   "cell_type": "code",
   "execution_count": null,
   "metadata": {},
   "outputs": [],
   "source": []
  },
  {
   "cell_type": "markdown",
   "metadata": {},
   "source": [
    "## Is there a column for continent? How do you know what continent a country is in?\n",
    "\n",
    "It's probably easiest to see this in Excel. Don't edit it in Excel, though!"
   ]
  },
  {
   "cell_type": "code",
   "execution_count": null,
   "metadata": {
    "collapsed": true
   },
   "outputs": [],
   "source": []
  },
  {
   "cell_type": "markdown",
   "metadata": {},
   "source": [
    "## Cleaning up the data\n",
    "\n",
    "We have several types of rows that we don't like:\n",
    "\n",
    "- Headers for continents (\"Africa,\" \"Europe,\" etc)\n",
    "- Totals for continents (\"Totals for Africa,\" \"Totals for Europe,\" etc.)\n",
    "- The empty lines between continent sections\n",
    "\n",
    "But we *do*! We're going to do a **three step process**:\n",
    "\n",
    "1. Create a new \"continent\" column for each of the header rows\n",
    "2. Copy that value down into all of the columns below it\n",
    "3. Delete the header/total/space rows"
   ]
  },
  {
   "cell_type": "markdown",
   "metadata": {},
   "source": [
    "### STEP 1: For each continent header row, add a new column called `continent` with the value of the continent\n",
    "\n",
    "> If you get the warning `A value is trying to be set on a copy of a slice from a DataFrame`, let's talk about it, because it means your code didn't work!"
   ]
  },
  {
   "cell_type": "code",
   "execution_count": null,
   "metadata": {},
   "outputs": [],
   "source": []
  },
  {
   "cell_type": "markdown",
   "metadata": {},
   "source": [
    "## STEP 1 CONFIRMATION\n",
    "\n",
    "Take a look at our data, make sure it looks right!"
   ]
  },
  {
   "cell_type": "code",
   "execution_count": null,
   "metadata": {
    "collapsed": true
   },
   "outputs": [],
   "source": []
  },
  {
   "cell_type": "markdown",
   "metadata": {},
   "source": [
    "## STEP 2: Filling down\n",
    "\n",
    "Use pandas to take that continent value and \"copy it down\" through the null values. So it might start off looking like this...\n",
    "\n",
    "|Country|Grand Total|Continent|\n",
    "|---|---|---|\n",
    "|Africa|NaN|Africa|\n",
    "|Algeria|6454.0|NaN|\n",
    "|Angola|2843.0|NaN|\n",
    "|Asia|NaN|Asia|\n",
    "|Afghanistan|2217.0|NaN|\n",
    "|Bahrain|2502.0|NaN|\n",
    "\n",
    "and then look like this:\n",
    "\n",
    "|Country|Grand Total|Continent|\n",
    "|---|---|---|\n",
    "|Africa|NaN|Africa|\n",
    "|Algeria|6454.0|**Africa**|\n",
    "|Angola|2843.0|**Africa**|\n",
    "|Asia|NaN|Asia|\n",
    "|Afghanistan|2217.0|**Asia**|\n",
    "|Bahrain|2502.0|**Asia**|"
   ]
  },
  {
   "cell_type": "code",
   "execution_count": null,
   "metadata": {},
   "outputs": [],
   "source": []
  },
  {
   "cell_type": "markdown",
   "metadata": {},
   "source": [
    "## STEP 2 CONFIRMATION\n",
    "\n",
    "Check how many rows of each continent exist in the dataset. **Europe and Africa should both have 56.**"
   ]
  },
  {
   "cell_type": "code",
   "execution_count": null,
   "metadata": {},
   "outputs": [],
   "source": []
  },
  {
   "cell_type": "markdown",
   "metadata": {},
   "source": [
    "## STEP 3: Deleting the bad rows"
   ]
  },
  {
   "cell_type": "markdown",
   "metadata": {},
   "source": [
    "### Delete the rows where \"Grand Total\" is missing\n",
    "\n",
    "- Tip: There are multiple ways to do this! I can tell you them!"
   ]
  },
  {
   "cell_type": "code",
   "execution_count": null,
   "metadata": {},
   "outputs": [],
   "source": []
  },
  {
   "cell_type": "markdown",
   "metadata": {},
   "source": [
    "### Look at the first 55 rows to be sure it worked"
   ]
  },
  {
   "cell_type": "code",
   "execution_count": null,
   "metadata": {},
   "outputs": [],
   "source": []
  },
  {
   "cell_type": "markdown",
   "metadata": {},
   "source": [
    "### Delete the rows where \"Country\" has \"Totals\"\n",
    "\n",
    "Now that we have the \"Continent\" column we can calculate totals with a groupby.\n",
    "\n",
    "- Tip: There are multiple ways to do this, but only one best way to do it! It probably isn't the same as the last question."
   ]
  },
  {
   "cell_type": "code",
   "execution_count": null,
   "metadata": {},
   "outputs": [],
   "source": []
  },
  {
   "cell_type": "markdown",
   "metadata": {},
   "source": [
    "## Confirm your cleanup worked\n",
    "\n",
    "Check to make sure you have 195 rows and 90 columns"
   ]
  },
  {
   "cell_type": "code",
   "execution_count": null,
   "metadata": {},
   "outputs": [],
   "source": []
  },
  {
   "cell_type": "markdown",
   "metadata": {},
   "source": [
    "# Making a few graphs\n",
    "\n",
    "Create a bar graph of the top 10 countries that visas are from"
   ]
  },
  {
   "cell_type": "code",
   "execution_count": null,
   "metadata": {},
   "outputs": [],
   "source": []
  },
  {
   "cell_type": "markdown",
   "metadata": {},
   "source": [
    "## Clean up that graph!\n",
    "\n",
    "- Add a title\n",
    "- Add a label to the bottom axis\n",
    "- Remove the label on the left axis\n",
    "- Remove the legend\n",
    "- Get rid of the boxes around everything\n",
    "- Remove most of the tick marks\n",
    "- Add commas for the number axis\n",
    "\n",
    "For tips, just ask me and/or use\n",
    "\n",
    "- https://matplotlib.org/gallery.html\n",
    "- Especially https://matplotlib.org/examples/ticks_and_spines/spines_demo.html\n",
    "\n",
    "To format numbers, you can use something that might look a little familiar\n",
    "\n",
    "```python\n",
    "import matplotlib.ticker as ticker\n",
    "ax.xaxis.set_major_formatter(ticker.StrMethodFormatter(\"{x:,.0f}\"))\n",
    "```"
   ]
  },
  {
   "cell_type": "code",
   "execution_count": null,
   "metadata": {},
   "outputs": [],
   "source": []
  },
  {
   "cell_type": "markdown",
   "metadata": {},
   "source": [
    "## Create a bar graph of the total number of F-1 visas from each continent\n",
    "\n",
    "And make it look nice!"
   ]
  },
  {
   "cell_type": "code",
   "execution_count": null,
   "metadata": {},
   "outputs": [],
   "source": []
  },
  {
   "cell_type": "code",
   "execution_count": null,
   "metadata": {
    "collapsed": true
   },
   "outputs": [],
   "source": []
  },
  {
   "cell_type": "code",
   "execution_count": null,
   "metadata": {
    "collapsed": true
   },
   "outputs": [],
   "source": []
  },
  {
   "cell_type": "markdown",
   "metadata": {},
   "source": [
    "# Read in the data from 2000-2016\n",
    "\n",
    "They should each be in a separate dataframe.\n",
    "\n",
    "- Tip: Maybe I have quicker ways to do this?"
   ]
  },
  {
   "cell_type": "code",
   "execution_count": null,
   "metadata": {},
   "outputs": [],
   "source": [
    "sheetnames = [\n",
    "    'FY97', 'FY98', 'FY99', 'FY00', 'FY01', 'FY02', 'FY03', 'FY04', 'FY05', 'FY06',\n",
    "    'FY07', 'FY08', 'FY09', 'FY10', 'FY11', 'FY12', 'FY13', 'FY14', 'FY15', 'FY16'\n",
    "]"
   ]
  },
  {
   "cell_type": "code",
   "execution_count": null,
   "metadata": {},
   "outputs": [],
   "source": []
  },
  {
   "cell_type": "markdown",
   "metadata": {},
   "source": [
    "# Clean them up, just like you did with the 1999 data\n",
    "\n",
    "## STEP 1: For each of the dataframes, rename the \"Fiscal Year XXXX\" column as \"Country\"\n",
    "\n",
    "- Tip: What does the code down below give you?\n",
    "\n",
    "```python\n",
    "df.columns.str.replace('Fiscal Year.*', 'Country')\n",
    "```\n",
    "\n",
    "- Tip: Is there another way to rename columns besides `.rename`?\n",
    "- Tip: Use a for loop"
   ]
  },
  {
   "cell_type": "code",
   "execution_count": null,
   "metadata": {},
   "outputs": [],
   "source": []
  },
  {
   "cell_type": "markdown",
   "metadata": {},
   "source": [
    "## STEP 2: Add the 'Continent' Column and get rid of the bad rows\n",
    "\n",
    "The code below will drop any column where 'Country' has 'Totals for' in it. The trick we used above won't work because we're in a list.\n",
    "\n",
    "```python\n",
    "df.drop(df.index[df['Country'].str.contains(\"Totals for\", na=False)])\n",
    "```"
   ]
  },
  {
   "cell_type": "code",
   "execution_count": null,
   "metadata": {
    "collapsed": true
   },
   "outputs": [],
   "source": []
  },
  {
   "cell_type": "markdown",
   "metadata": {},
   "source": [
    "## STEP 3: Add the year to each dataframe\n",
    "\n",
    "We can't combine them yet because you need to be able to separate them. Use the code below to get close.\n",
    "\n",
    "```python\n",
    "for sheet_df, fiscal_year in zip(sheets, sheetnames):\n",
    "    sheet_df['year'] = fiscal_year\n",
    "```"
   ]
  },
  {
   "cell_type": "code",
   "execution_count": null,
   "metadata": {
    "collapsed": true
   },
   "outputs": [],
   "source": []
  },
  {
   "cell_type": "markdown",
   "metadata": {},
   "source": [
    "# Combining the dataframes into one big dataframe\n",
    "\n",
    "Combine them, confirming the result has 4464 rows and 96 columns\n",
    "\n",
    "- Tip: don't use .merge!"
   ]
  },
  {
   "cell_type": "code",
   "execution_count": null,
   "metadata": {
    "collapsed": true
   },
   "outputs": [],
   "source": []
  },
  {
   "cell_type": "code",
   "execution_count": null,
   "metadata": {},
   "outputs": [],
   "source": []
  },
  {
   "cell_type": "markdown",
   "metadata": {},
   "source": [
    "## A little cleaning\n",
    "\n",
    "Replace FY97 with 1997, FY98 with 1998, FY99 with FY1999, FY00 with 2000, etc.\n",
    "\n",
    "- Tip: You could do this in a fancy way using extract or loops or who knows what but honestly .replace might be fastest!"
   ]
  },
  {
   "cell_type": "code",
   "execution_count": null,
   "metadata": {
    "collapsed": true
   },
   "outputs": [],
   "source": []
  },
  {
   "cell_type": "markdown",
   "metadata": {},
   "source": [
    "# A little graphing\n",
    "\n",
    "## Graph the number of visas granted to Colombia over time\n",
    "\n",
    "Make it look nice!"
   ]
  },
  {
   "cell_type": "code",
   "execution_count": null,
   "metadata": {},
   "outputs": [],
   "source": []
  },
  {
   "cell_type": "markdown",
   "metadata": {},
   "source": [
    "## How about Iraq?"
   ]
  },
  {
   "cell_type": "code",
   "execution_count": null,
   "metadata": {},
   "outputs": [],
   "source": []
  },
  {
   "cell_type": "markdown",
   "metadata": {},
   "source": [
    "## Mexico?"
   ]
  },
  {
   "cell_type": "code",
   "execution_count": null,
   "metadata": {},
   "outputs": [],
   "source": []
  }
 ],
 "metadata": {
  "kernelspec": {
   "display_name": "Python 3",
   "language": "python",
   "name": "python3"
  },
  "language_info": {
   "codemirror_mode": {
    "name": "ipython",
    "version": 3
   },
   "file_extension": ".py",
   "mimetype": "text/x-python",
   "name": "python",
   "nbconvert_exporter": "python",
   "pygments_lexer": "ipython3",
   "version": "3.6.1"
  }
 },
 "nbformat": 4,
 "nbformat_minor": 2
}
