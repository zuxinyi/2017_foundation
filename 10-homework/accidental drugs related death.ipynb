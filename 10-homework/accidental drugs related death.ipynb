{
 "cells": [
  {
   "cell_type": "code",
   "execution_count": null,
   "metadata": {
    "collapsed": true
   },
   "outputs": [],
   "source": [
    "#source website: Data.gov\n",
    "#Data are derived from an investigation by the Office of the Chief Medical Examiner\n"
   ]
  },
  {
   "cell_type": "code",
   "execution_count": 1,
   "metadata": {},
   "outputs": [
    {
     "data": {
      "text/html": [
       "<div>\n",
       "<style>\n",
       "    .dataframe thead tr:only-child th {\n",
       "        text-align: right;\n",
       "    }\n",
       "\n",
       "    .dataframe thead th {\n",
       "        text-align: left;\n",
       "    }\n",
       "\n",
       "    .dataframe tbody tr th {\n",
       "        vertical-align: top;\n",
       "    }\n",
       "</style>\n",
       "<table border=\"1\" class=\"dataframe\">\n",
       "  <thead>\n",
       "    <tr style=\"text-align: right;\">\n",
       "      <th></th>\n",
       "      <th>CaseNumber</th>\n",
       "      <th>Date</th>\n",
       "      <th>Sex</th>\n",
       "      <th>Race</th>\n",
       "      <th>Age</th>\n",
       "      <th>Residence City</th>\n",
       "      <th>Residence State</th>\n",
       "      <th>Residence County</th>\n",
       "      <th>Death City</th>\n",
       "      <th>Death State</th>\n",
       "      <th>...</th>\n",
       "      <th>Benzodiazepine</th>\n",
       "      <th>Methadone</th>\n",
       "      <th>Amphet</th>\n",
       "      <th>Tramad</th>\n",
       "      <th>Morphine (not heroin)</th>\n",
       "      <th>Other</th>\n",
       "      <th>Any Opioid</th>\n",
       "      <th>MannerofDeath</th>\n",
       "      <th>AmendedMannerofDeath</th>\n",
       "      <th>DeathLoc</th>\n",
       "    </tr>\n",
       "  </thead>\n",
       "  <tbody>\n",
       "    <tr>\n",
       "      <th>0</th>\n",
       "      <td>12-4443</td>\n",
       "      <td>03/23/2012</td>\n",
       "      <td>Male</td>\n",
       "      <td>White</td>\n",
       "      <td>22.0</td>\n",
       "      <td>ONECO</td>\n",
       "      <td>NaN</td>\n",
       "      <td>WINDHAM</td>\n",
       "      <td>MOOSUP</td>\n",
       "      <td>NaN</td>\n",
       "      <td>...</td>\n",
       "      <td>NaN</td>\n",
       "      <td>NaN</td>\n",
       "      <td>NaN</td>\n",
       "      <td>NaN</td>\n",
       "      <td>NaN</td>\n",
       "      <td>NaN</td>\n",
       "      <td>NaN</td>\n",
       "      <td>Accident</td>\n",
       "      <td>NaN</td>\n",
       "      <td>Moosup, CT\\n(41.712872, -71.881207)</td>\n",
       "    </tr>\n",
       "    <tr>\n",
       "      <th>1</th>\n",
       "      <td>12-2808</td>\n",
       "      <td>02/21/2012</td>\n",
       "      <td>Male</td>\n",
       "      <td>White</td>\n",
       "      <td>28.0</td>\n",
       "      <td>WINCHESTER</td>\n",
       "      <td>NaN</td>\n",
       "      <td>LITCHFIELD</td>\n",
       "      <td>WINCHESTER</td>\n",
       "      <td>NaN</td>\n",
       "      <td>...</td>\n",
       "      <td>NaN</td>\n",
       "      <td>NaN</td>\n",
       "      <td>NaN</td>\n",
       "      <td>NaN</td>\n",
       "      <td>NaN</td>\n",
       "      <td>NaN</td>\n",
       "      <td>NaN</td>\n",
       "      <td>Accident</td>\n",
       "      <td>NaN</td>\n",
       "      <td>Winchester, CT\\n(41.901973, -73.133851)</td>\n",
       "    </tr>\n",
       "    <tr>\n",
       "      <th>2</th>\n",
       "      <td>NaN</td>\n",
       "      <td>05/20/2016</td>\n",
       "      <td>Male</td>\n",
       "      <td>White</td>\n",
       "      <td>36.0</td>\n",
       "      <td>AVON</td>\n",
       "      <td>CT</td>\n",
       "      <td>HARTFORD</td>\n",
       "      <td>AVON</td>\n",
       "      <td>CT</td>\n",
       "      <td>...</td>\n",
       "      <td>NaN</td>\n",
       "      <td>NaN</td>\n",
       "      <td>NaN</td>\n",
       "      <td>NaN</td>\n",
       "      <td>NaN</td>\n",
       "      <td>NaN</td>\n",
       "      <td>NaN</td>\n",
       "      <td>Accident</td>\n",
       "      <td>NaN</td>\n",
       "      <td>Avon, CT\\n(41.809641, -72.830547)</td>\n",
       "    </tr>\n",
       "    <tr>\n",
       "      <th>3</th>\n",
       "      <td>15-13536</td>\n",
       "      <td>08/20/2015</td>\n",
       "      <td>Male</td>\n",
       "      <td>Black</td>\n",
       "      <td>63.0</td>\n",
       "      <td>NEW HAVEN</td>\n",
       "      <td>CT</td>\n",
       "      <td>NEW HAVEN</td>\n",
       "      <td>NEW HAVEN</td>\n",
       "      <td>CT</td>\n",
       "      <td>...</td>\n",
       "      <td>NaN</td>\n",
       "      <td>NaN</td>\n",
       "      <td>NaN</td>\n",
       "      <td>NaN</td>\n",
       "      <td>NaN</td>\n",
       "      <td>NaN</td>\n",
       "      <td>Y</td>\n",
       "      <td>Accident</td>\n",
       "      <td>NaN</td>\n",
       "      <td>New Haven, CT\\n(41.308252, -72.924161)</td>\n",
       "    </tr>\n",
       "    <tr>\n",
       "      <th>4</th>\n",
       "      <td>12-12217</td>\n",
       "      <td>08/29/2012</td>\n",
       "      <td>Male</td>\n",
       "      <td>White</td>\n",
       "      <td>39.0</td>\n",
       "      <td>MIDDLETOWN</td>\n",
       "      <td>NaN</td>\n",
       "      <td>MIDDLESEX</td>\n",
       "      <td>MIDDLETOWN</td>\n",
       "      <td>NaN</td>\n",
       "      <td>...</td>\n",
       "      <td>NaN</td>\n",
       "      <td>NaN</td>\n",
       "      <td>NaN</td>\n",
       "      <td>NaN</td>\n",
       "      <td>NaN</td>\n",
       "      <td>NaN</td>\n",
       "      <td>NaN</td>\n",
       "      <td>Accident</td>\n",
       "      <td>NaN</td>\n",
       "      <td>Middletown, CT\\n(41.544654, -72.651713)</td>\n",
       "    </tr>\n",
       "  </tbody>\n",
       "</table>\n",
       "<p>5 rows × 32 columns</p>\n",
       "</div>"
      ],
      "text/plain": [
       "  CaseNumber        Date   Sex   Race   Age Residence City Residence State  \\\n",
       "0    12-4443  03/23/2012  Male  White  22.0          ONECO             NaN   \n",
       "1    12-2808  02/21/2012  Male  White  28.0     WINCHESTER             NaN   \n",
       "2        NaN  05/20/2016  Male  White  36.0           AVON              CT   \n",
       "3   15-13536  08/20/2015  Male  Black  63.0      NEW HAVEN              CT   \n",
       "4   12-12217  08/29/2012  Male  White  39.0     MIDDLETOWN             NaN   \n",
       "\n",
       "  Residence County  Death City Death State  \\\n",
       "0          WINDHAM      MOOSUP         NaN   \n",
       "1       LITCHFIELD  WINCHESTER         NaN   \n",
       "2         HARTFORD        AVON          CT   \n",
       "3        NEW HAVEN   NEW HAVEN          CT   \n",
       "4        MIDDLESEX  MIDDLETOWN         NaN   \n",
       "\n",
       "                    ...                    Benzodiazepine Methadone Amphet  \\\n",
       "0                   ...                               NaN       NaN    NaN   \n",
       "1                   ...                               NaN       NaN    NaN   \n",
       "2                   ...                               NaN       NaN    NaN   \n",
       "3                   ...                               NaN       NaN    NaN   \n",
       "4                   ...                               NaN       NaN    NaN   \n",
       "\n",
       "  Tramad Morphine (not heroin) Other Any Opioid MannerofDeath  \\\n",
       "0    NaN                   NaN   NaN        NaN      Accident   \n",
       "1    NaN                   NaN   NaN        NaN      Accident   \n",
       "2    NaN                   NaN   NaN        NaN      Accident   \n",
       "3    NaN                   NaN   NaN          Y      Accident   \n",
       "4    NaN                   NaN   NaN        NaN      Accident   \n",
       "\n",
       "  AmendedMannerofDeath                                 DeathLoc  \n",
       "0                  NaN      Moosup, CT\\n(41.712872, -71.881207)  \n",
       "1                  NaN  Winchester, CT\\n(41.901973, -73.133851)  \n",
       "2                  NaN        Avon, CT\\n(41.809641, -72.830547)  \n",
       "3                  NaN   New Haven, CT\\n(41.308252, -72.924161)  \n",
       "4                  NaN  Middletown, CT\\n(41.544654, -72.651713)  \n",
       "\n",
       "[5 rows x 32 columns]"
      ]
     },
     "execution_count": 1,
     "metadata": {},
     "output_type": "execute_result"
    }
   ],
   "source": [
    "import pandas as pd \n",
    "df = pd.read_csv(\"Accidental_Drug_Related_Deaths__2012-2016.csv\")\n",
    "df.head()"
   ]
  },
  {
   "cell_type": "code",
   "execution_count": 2,
   "metadata": {},
   "outputs": [
    {
     "data": {
      "text/plain": [
       "(3045, 32)"
      ]
     },
     "execution_count": 2,
     "metadata": {},
     "output_type": "execute_result"
    }
   ],
   "source": [
    "df.shape"
   ]
  },
  {
   "cell_type": "code",
   "execution_count": 5,
   "metadata": {},
   "outputs": [
    {
     "data": {
      "text/plain": [
       "CaseNumber                object\n",
       "Date                      object\n",
       "Sex                       object\n",
       "Race                      object\n",
       "Age                      float64\n",
       "Residence City            object\n",
       "Residence State           object\n",
       "Residence County          object\n",
       "Death City                object\n",
       "Death State               object\n",
       "Death County              object\n",
       "Location                  object\n",
       "DescriptionofInjury       object\n",
       "InjuryPlace               object\n",
       "ImmediateCauseA           object\n",
       "Heroin                    object\n",
       "Cocaine                   object\n",
       "Fentanyl                  object\n",
       "Oxycodone                 object\n",
       "Oxymorphone               object\n",
       "EtOH                      object\n",
       "Hydro-codeine             object\n",
       "Benzodiazepine            object\n",
       "Methadone                 object\n",
       "Amphet                    object\n",
       "Tramad                    object\n",
       "Morphine (not heroin)     object\n",
       "Other                     object\n",
       "Any Opioid                object\n",
       "MannerofDeath             object\n",
       "AmendedMannerofDeath     float64\n",
       "DeathLoc                  object\n",
       "dtype: object"
      ]
     },
     "execution_count": 5,
     "metadata": {},
     "output_type": "execute_result"
    }
   ],
   "source": [
    "df.dtypes"
   ]
  },
  {
   "cell_type": "markdown",
   "metadata": {},
   "source": [
    "1. Date: when the drugs related death happens\n",
    "2. Age: age of the deceased\n",
    "3. Sex: gender of the deceased\n",
    "4. Any Opioid:  If the Medical Examiner cannot conclude whether it’s RX Morphine or heroin based morphine in the toxicity results, that column may be checked\n",
    "\n",
    "I made up the first three definitions; the fourth one has a dictionary.\n"
   ]
  },
  {
   "cell_type": "markdown",
   "metadata": {},
   "source": [
    "Graph the count of men and women"
   ]
  },
  {
   "cell_type": "code",
   "execution_count": 7,
   "metadata": {},
   "outputs": [
    {
     "data": {
      "text/plain": [
       "<matplotlib.axes._subplots.AxesSubplot at 0x1095db0f0>"
      ]
     },
     "execution_count": 7,
     "metadata": {},
     "output_type": "execute_result"
    },
    {
     "data": {
      "image/png": "[encoded data removed]",
      "text/plain": [
       "<matplotlib.figure.Figure at 0x1095cc860>"
      ]
     },
     "metadata": {},
     "output_type": "display_data"
    }
   ],
   "source": [
    "import matplotlib.pyplot as plt\n",
    "%matplotlib inline\n",
    "\n",
    "df['Sex'].value_counts().plot(kind = 'barh')"
   ]
  },
  {
   "cell_type": "markdown",
   "metadata": {},
   "source": [
    "Graph the race distribution"
   ]
  },
  {
   "cell_type": "code",
   "execution_count": 11,
   "metadata": {},
   "outputs": [
    {
     "data": {
      "text/plain": [
       "<matplotlib.axes._subplots.AxesSubplot at 0x1099070f0>"
      ]
     },
     "execution_count": 11,
     "metadata": {},
     "output_type": "execute_result"
    },
    {
     "data": {
      "image/png": "[encoded data removed]",
      "text/plain": [
       "<matplotlib.figure.Figure at 0x1099a3940>"
      ]
     },
     "metadata": {},
     "output_type": "display_data"
    }
   ],
   "source": [
    "df['Race'].value_counts().plot(kind = 'barh')"
   ]
  },
  {
   "cell_type": "markdown",
   "metadata": {},
   "source": [
    "What is the average death age for each race?"
   ]
  },
  {
   "cell_type": "code",
   "execution_count": 9,
   "metadata": {},
   "outputs": [
    {
     "data": {
      "text/plain": [
       "Race\n",
       "Asian Indian              45.333333\n",
       "Asian, Other              33.272727\n",
       "Black                     47.016598\n",
       "Chinese                   24.000000\n",
       "Hawaiian                  58.000000\n",
       "Hispanic, Black           46.777778\n",
       "Hispanic, White           42.556604\n",
       "Native American, Other    44.000000\n",
       "Other                     36.166667\n",
       "Unknown                   39.461538\n",
       "White                     41.164541\n",
       "Name: Age, dtype: float64"
      ]
     },
     "execution_count": 9,
     "metadata": {},
     "output_type": "execute_result"
    }
   ],
   "source": [
    "df.groupby('Race')['Age'].mean()"
   ]
  },
  {
   "cell_type": "markdown",
   "metadata": {},
   "source": [
    "Show how the accidental drugs related deaths increase from 2012 to 2016."
   ]
  },
  {
   "cell_type": "code",
   "execution_count": 17,
   "metadata": {},
   "outputs": [
    {
     "name": "stderr",
     "output_type": "stream",
     "text": [
      "/Library/Frameworks/Python.framework/Versions/3.5/lib/python3.5/site-packages/ipykernel_launcher.py:1: FutureWarning: currently extract(expand=None) means expand=False (return Index/Series/DataFrame) but in a future version of pandas this will be changed to expand=True (return DataFrame)\n",
      "  \"\"\"Entry point for launching an IPython kernel.\n"
     ]
    },
    {
     "data": {
      "text/plain": [
       "<matplotlib.axes._subplots.AxesSubplot at 0x109bbc908>"
      ]
     },
     "execution_count": 17,
     "metadata": {},
     "output_type": "execute_result"
    },
    {
     "data": {
      "image/png": "[encoded data removed]",
      "text/plain": [
       "<matplotlib.figure.Figure at 0x109bbc0f0>"
      ]
     },
     "metadata": {},
     "output_type": "display_data"
    }
   ],
   "source": [
    "df['Date'].str.extract('\\d\\d/\\d\\d/(\\d\\d\\d\\d)').value_counts(ascending = True).plot()"
   ]
  },
  {
   "cell_type": "markdown",
   "metadata": {},
   "source": [
    "How many death cases happen in hospital each year?"
   ]
  },
  {
   "cell_type": "code",
   "execution_count": 29,
   "metadata": {},
   "outputs": [
    {
     "name": "stderr",
     "output_type": "stream",
     "text": [
      "/Library/Frameworks/Python.framework/Versions/3.5/lib/python3.5/site-packages/ipykernel_launcher.py:1: FutureWarning: currently extract(expand=None) means expand=False (return Index/Series/DataFrame) but in a future version of pandas this will be changed to expand=True (return DataFrame)\n",
      "  \"\"\"Entry point for launching an IPython kernel.\n"
     ]
    },
    {
     "data": {
      "text/plain": [
       "2012    133\n",
       "2013    179\n",
       "2014    182\n",
       "2015    206\n",
       "2016    317\n",
       "Name: Date, dtype: int64"
      ]
     },
     "execution_count": 29,
     "metadata": {},
     "output_type": "execute_result"
    }
   ],
   "source": [
    "df[df['Location'] == 'Hospital']['Date'].str.extract('\\d\\d/\\d\\d/(\\d\\d\\d\\d)').value_counts(ascending = True)"
   ]
  },
  {
   "cell_type": "code",
   "execution_count": null,
   "metadata": {
    "collapsed": true
   },
   "outputs": [],
   "source": []
  },
  {
   "cell_type": "code",
   "execution_count": null,
   "metadata": {
    "collapsed": true
   },
   "outputs": [],
   "source": []
  }
 ],
 "metadata": {
  "kernelspec": {
   "display_name": "Python 3",
   "language": "python",
   "name": "python3"
  },
  "language_info": {
   "codemirror_mode": {
    "name": "ipython",
    "version": 3
   },
   "file_extension": ".py",
   "mimetype": "text/x-python",
   "name": "python",
   "nbconvert_exporter": "python",
   "pygments_lexer": "ipython3",
   "version": "3.5.0rc2"
  }
 },
 "nbformat": 4,
 "nbformat_minor": 2
}
