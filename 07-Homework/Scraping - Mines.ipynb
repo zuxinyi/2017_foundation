{
 "cells": [
  {
   "cell_type": "markdown",
   "metadata": {},
   "source": [
    "# Mine Safety\n",
    "\n",
    "We're interested in [US mine safety](https://arlweb.msha.gov/drs/drshome.htm#MID), thank goodness we can search for these things."
   ]
  },
  {
   "cell_type": "markdown",
   "metadata": {},
   "source": [
    "## Preparation: Knowing your tags\n",
    "\n",
    "These questions are the same for every data set, and might not work exactly for yours.\n",
    "\n",
    "**Search for every operator with 'dirt' in their name, including abandoned mines.**"
   ]
  },
  {
   "cell_type": "markdown",
   "metadata": {},
   "source": [
    "### What is the tag and class name for every row of data?"
   ]
  },
  {
   "cell_type": "code",
   "execution_count": 9,
   "metadata": {
    "collapsed": true
   },
   "outputs": [],
   "source": [
    "# tr\n",
    "\n"
   ]
  },
  {
   "cell_type": "markdown",
   "metadata": {},
   "source": [
    "### What is the tag and class name for every mine operator's name?"
   ]
  },
  {
   "cell_type": "code",
   "execution_count": 10,
   "metadata": {
    "collapsed": true
   },
   "outputs": [],
   "source": [
    "#font"
   ]
  },
  {
   "cell_type": "markdown",
   "metadata": {},
   "source": [
    "### What is the tag and class name for every mine's name?"
   ]
  },
  {
   "cell_type": "code",
   "execution_count": 11,
   "metadata": {
    "collapsed": true
   },
   "outputs": [],
   "source": [
    "#font"
   ]
  },
  {
   "cell_type": "markdown",
   "metadata": {},
   "source": [
    "### What is the tag and class name for every mine operator's name?"
   ]
  },
  {
   "cell_type": "code",
   "execution_count": 12,
   "metadata": {
    "collapsed": true
   },
   "outputs": [],
   "source": [
    "#font"
   ]
  },
  {
   "cell_type": "markdown",
   "metadata": {},
   "source": [
    "### What is the tag and class name for every mine operator's name?"
   ]
  },
  {
   "cell_type": "code",
   "execution_count": 13,
   "metadata": {
    "collapsed": true
   },
   "outputs": [],
   "source": [
    "#font"
   ]
  },
  {
   "cell_type": "markdown",
   "metadata": {},
   "source": [
    "## Being lazy\n",
    "\n",
    "If you only needed these results, what would you do instead of scraping them?"
   ]
  },
  {
   "cell_type": "code",
   "execution_count": null,
   "metadata": {
    "collapsed": true
   },
   "outputs": [],
   "source": []
  },
  {
   "cell_type": "markdown",
   "metadata": {},
   "source": [
    "## Setup: Import what you'll need to scrape the page\n",
    "\n",
    "Use `requests`, not `urllib`."
   ]
  },
  {
   "cell_type": "code",
   "execution_count": 14,
   "metadata": {},
   "outputs": [
    {
     "data": {
      "text/plain": [
       "<Response [200]>"
      ]
     },
     "execution_count": 14,
     "metadata": {},
     "output_type": "execute_result"
    }
   ],
   "source": [
    "from bs4 import BeautifulSoup\n",
    "import requests\n",
    "\n",
    "\n",
    "\n",
    "data = {\n",
    "    'OperSearch':'dirt',\n",
    "    'Abandoned':'No',\n",
    "    'MineName':'',\n",
    "    'StateSearch':'None',\n",
    "    'CM':'All',\n",
    "    'x':'0',\n",
    "    'y':'0',\n",
    "    'MC':'Opersearch'\n",
    "}\n",
    "\n",
    "header = {\n",
    "    'Referer' : 'https://arlweb.msha.gov/drs/ASP/OprNameStatesearch.asp'\n",
    "}\n",
    "\n",
    "url = 'https://arlweb.msha.gov/drs/ASP/OprNameStatesearch.asp'\n",
    "\n",
    "response = requests.post(url,headers=header,data=data)\n",
    "response"
   ]
  },
  {
   "cell_type": "markdown",
   "metadata": {},
   "source": [
    "## Try to scrape the page\n",
    "\n",
    "To test if you requested the page correctly, save the BeautifulSoup document as `doc` and run the code `doc.find_all('tr')[-1].text` to get the text of the last `<tr>` element.\n",
    "\n",
    "- If the result starts with **Total Number of Mines Found**, you were successful."
   ]
  },
  {
   "cell_type": "code",
   "execution_count": 15,
   "metadata": {},
   "outputs": [
    {
     "data": {
      "text/plain": [
       "'\\nTotal Number of Mines Found:\\xa0\\xa019'"
      ]
     },
     "execution_count": 15,
     "metadata": {},
     "output_type": "execute_result"
    }
   ],
   "source": [
    "doc = BeautifulSoup(response.text, 'html.parser')\n",
    "doc.find_all('tr')[-1].text"
   ]
  },
  {
   "cell_type": "code",
   "execution_count": null,
   "metadata": {
    "collapsed": true
   },
   "outputs": [],
   "source": []
  },
  {
   "cell_type": "code",
   "execution_count": null,
   "metadata": {
    "collapsed": true
   },
   "outputs": [],
   "source": []
  },
  {
   "cell_type": "code",
   "execution_count": null,
   "metadata": {
    "collapsed": true
   },
   "outputs": [],
   "source": []
  },
  {
   "cell_type": "markdown",
   "metadata": {},
   "source": [
    "## Actually scraping"
   ]
  },
  {
   "cell_type": "markdown",
   "metadata": {},
   "source": [
    "### Hopefully you know that each `tr` is supposed to be your data. What is the index of the first row element that is actually a result?\n",
    "\n",
    "`.text` will help you here."
   ]
  },
  {
   "cell_type": "code",
   "execution_count": 16,
   "metadata": {},
   "outputs": [
    {
     "name": "stdout",
     "output_type": "stream",
     "text": [
      "The first row result is at index 7\n"
     ]
    }
   ],
   "source": [
    "result_data = doc.find_all('tr')\n",
    "\n",
    "counter = 0\n",
    "for result in result_data:\n",
    "    if result.find(\"input\", attrs={'value':'3503598'}):\n",
    "        break\n",
    "    counter += 1\n",
    "print(\"The first row result is at index\",counter)"
   ]
  },
  {
   "cell_type": "code",
   "execution_count": null,
   "metadata": {
    "collapsed": true
   },
   "outputs": [],
   "source": []
  },
  {
   "cell_type": "markdown",
   "metadata": {},
   "source": [
    "### Loop through each operator result, printing its name\n",
    "\n",
    "Use LIST SLICING to skip the non-data row(s)."
   ]
  },
  {
   "cell_type": "code",
   "execution_count": 17,
   "metadata": {},
   "outputs": [
    {
     "name": "stdout",
     "output_type": "stream",
     "text": [
      " Newberg Rock & Dirt  \n",
      "AM Dirtworks & Aggregate Sales  \n",
      "Dirt Company  \n",
      "Dirt Con  \n",
      "Dirt Doctor Inc  \n",
      "Dirt Works  \n",
      "Holley Dirt Company, Inc  \n",
      "Krueger Brothers Gravel & Dirt  \n",
      "M R Dirt  \n",
      "M.R. Dirt Inc.  \n",
      "P B Dirt Movers, Inc  \n",
      "PB Dirt Movers  \n",
      "PB Dirt Movers, Inc  \n",
      "Prescott Dirt, LLC  \n",
      "R D Blankenship Dirt Work LLC  \n",
      "SIMPSON DIRTWORX LLC  \n",
      "SIMPSON DIRTWORX LLC  \n",
      "Spry's Dirt & Gravel, Inc.  \n",
      "Vogt Dirt Service  \n"
     ]
    }
   ],
   "source": [
    "lines = result_data[7:-1]\n",
    "for line in lines:\n",
    "    print(line.find_all('td')[2].font.text)\n",
    "\n"
   ]
  },
  {
   "cell_type": "markdown",
   "metadata": {},
   "source": [
    "### Loop through each operator result, printing its ID\n",
    "\n",
    "There should be ONE code per row, and NO empty rows between them."
   ]
  },
  {
   "cell_type": "code",
   "execution_count": 18,
   "metadata": {},
   "outputs": [
    {
     "name": "stdout",
     "output_type": "stream",
     "text": [
      "OR \n",
      "ND \n",
      "AK \n",
      "WV \n",
      "MN \n",
      "TX \n",
      "FL \n",
      "SD \n",
      "PA \n",
      "PA \n",
      "KY \n",
      "VA \n",
      "VA \n",
      "AZ \n",
      "NM \n",
      "VT \n",
      "VT \n",
      "MO \n",
      "MN \n"
     ]
    }
   ],
   "source": [
    "lines = result_data[7:-1]\n",
    "for line in lines:\n",
    "    print(line.find_all('td')[1].font.text)"
   ]
  },
  {
   "cell_type": "markdown",
   "metadata": {},
   "source": [
    "## Saving the results\n",
    "\n",
    "### Loop through each `tr` to create a list of dictionaries\n",
    "\n",
    "Each dictionary must contain\n",
    "\n",
    "- Operator ID\n",
    "- Operator name\n",
    "- Mine name\n",
    "- State\n",
    "- Mine type\n",
    "- Coal or metal\n",
    "- Status\n",
    "- Commodity\n",
    "\n",
    "Create a new dictionary for each row."
   ]
  },
  {
   "cell_type": "code",
   "execution_count": 19,
   "metadata": {},
   "outputs": [
    {
     "data": {
      "text/plain": [
       "[{'CM*': 'M\\xa0',\n",
       "  'Commodity': 'Crushed, Broken Stone NEC\\xa0 ',\n",
       "  'ID': '3503598',\n",
       "  'Mine Name': 'Newberg Rock & Dirt',\n",
       "  'Operator': ' Newberg Rock & Dirt \\xa0',\n",
       "  'State': 'OR\\xa0',\n",
       "  'Status': 'Active\\xa0 ',\n",
       "  'Type': 'Surface             '},\n",
       " {'CM*': 'M\\xa0',\n",
       "  'Commodity': 'Construction Sand and Gravel\\xa0 ',\n",
       "  'ID': '4801789',\n",
       "  'Mine Name': 'AM Dirtworks & Aggregate Sales',\n",
       "  'Operator': 'AM Dirtworks & Aggregate Sales \\xa0',\n",
       "  'State': 'ND\\xa0',\n",
       "  'Status': 'Intermittent\\xa0 ',\n",
       "  'Type': 'Surface             '},\n",
       " {'CM*': 'M\\xa0',\n",
       "  'Commodity': 'Construction Sand and Gravel\\xa0 ',\n",
       "  'ID': '5001797',\n",
       "  'Mine Name': 'Bush Pilot',\n",
       "  'Operator': 'Dirt Company \\xa0',\n",
       "  'State': 'AK\\xa0',\n",
       "  'Status': 'Intermittent\\xa0 ',\n",
       "  'Type': 'Surface             '},\n",
       " {'CM*': 'M\\xa0',\n",
       "  'Commodity': 'Crushed, Broken Limestone NEC\\xa0 ',\n",
       "  'ID': '4608254',\n",
       "  'Mine Name': 'Hog Lick Quarry',\n",
       "  'Operator': 'Dirt Con \\xa0',\n",
       "  'State': 'WV\\xa0',\n",
       "  'Status': 'Temporarily Idled\\xa0 ',\n",
       "  'Type': 'Surface             '},\n",
       " {'CM*': 'M\\xa0',\n",
       "  'Commodity': 'Construction Sand and Gravel\\xa0 ',\n",
       "  'ID': '2103723',\n",
       "  'Mine Name': 'Rock Lake Plant',\n",
       "  'Operator': 'Dirt Doctor Inc \\xa0',\n",
       "  'State': 'MN\\xa0',\n",
       "  'Status': 'Intermittent\\xa0 ',\n",
       "  'Type': 'Surface             '},\n",
       " {'CM*': 'M\\xa0',\n",
       "  'Commodity': 'Construction Sand and Gravel\\xa0 ',\n",
       "  'ID': '4104757',\n",
       "  'Mine Name': 'Portable #1',\n",
       "  'Operator': 'Dirt Works \\xa0',\n",
       "  'State': 'TX\\xa0',\n",
       "  'Status': 'Intermittent\\xa0 ',\n",
       "  'Type': 'Surface             '},\n",
       " {'CM*': 'M\\xa0',\n",
       "  'Commodity': 'Sand, Common\\xa0 ',\n",
       "  'ID': '0801306',\n",
       "  'Mine Name': 'River Road Pit',\n",
       "  'Operator': 'Holley Dirt Company, Inc \\xa0',\n",
       "  'State': 'FL\\xa0',\n",
       "  'Status': 'Active\\xa0 ',\n",
       "  'Type': 'Surface             '},\n",
       " {'CM*': 'M\\xa0',\n",
       "  'Commodity': 'Construction Sand and Gravel\\xa0 ',\n",
       "  'ID': '3901432',\n",
       "  'Mine Name': 'PORTABLE SCREENER',\n",
       "  'Operator': 'Krueger Brothers Gravel & Dirt \\xa0',\n",
       "  'State': 'SD\\xa0',\n",
       "  'Status': 'Intermittent\\xa0 ',\n",
       "  'Type': 'Surface             '},\n",
       " {'CM*': 'M\\xa0',\n",
       "  'Commodity': 'Construction Sand and Gravel\\xa0 ',\n",
       "  'ID': '3609624',\n",
       "  'Mine Name': 'Forbes Pit',\n",
       "  'Operator': 'M R Dirt \\xa0',\n",
       "  'State': 'PA\\xa0',\n",
       "  'Status': 'Intermittent\\xa0 ',\n",
       "  'Type': 'Surface             '},\n",
       " {'CM*': 'M\\xa0',\n",
       "  'Commodity': 'Dimension Stone NEC\\xa0 ',\n",
       "  'ID': '3609931',\n",
       "  'Mine Name': 'Camptown Quarry',\n",
       "  'Operator': 'M.R. Dirt Inc. \\xa0',\n",
       "  'State': 'PA\\xa0',\n",
       "  'Status': 'Intermittent\\xa0 ',\n",
       "  'Type': 'Surface             '},\n",
       " {'CM*': 'C\\xa0',\n",
       "  'Commodity': 'Coal (Bituminous)\\xa0 ',\n",
       "  'ID': '1519799',\n",
       "  'Mine Name': 'Fedscreek Surface',\n",
       "  'Operator': 'P B Dirt Movers, Inc \\xa0',\n",
       "  'State': 'KY\\xa0',\n",
       "  'Status': 'Active\\xa0 ',\n",
       "  'Type': 'Surface             '},\n",
       " {'CM*': 'C\\xa0',\n",
       "  'Commodity': 'Coal (Bituminous)\\xa0 ',\n",
       "  'ID': '4407296',\n",
       "  'Mine Name': 'Mine No. 6',\n",
       "  'Operator': 'PB Dirt Movers \\xa0',\n",
       "  'State': 'VA\\xa0',\n",
       "  'Status': 'Temporarily Idled\\xa0 ',\n",
       "  'Type': 'Underground         '},\n",
       " {'CM*': 'C\\xa0',\n",
       "  'Commodity': 'Coal (Bituminous)\\xa0 ',\n",
       "  'ID': '4407270',\n",
       "  'Mine Name': 'Surface Mine No. 1',\n",
       "  'Operator': 'PB Dirt Movers, Inc \\xa0',\n",
       "  'State': 'VA\\xa0',\n",
       "  'Status': 'NonProducing\\xa0 ',\n",
       "  'Type': 'Surface             '},\n",
       " {'CM*': 'M\\xa0',\n",
       "  'Commodity': 'Construction Sand and Gravel\\xa0 ',\n",
       "  'ID': '0203332',\n",
       "  'Mine Name': 'Sandretto Drive',\n",
       "  'Operator': 'Prescott Dirt, LLC \\xa0',\n",
       "  'State': 'AZ\\xa0',\n",
       "  'Status': 'Intermittent\\xa0 ',\n",
       "  'Type': 'Surface             '},\n",
       " {'CM*': 'M\\xa0',\n",
       "  'Commodity': 'Construction Sand and Gravel\\xa0 ',\n",
       "  'ID': '2901986',\n",
       "  'Mine Name': 'R D BLANKENSHIP DIRT WORK',\n",
       "  'Operator': 'R D Blankenship Dirt Work LLC \\xa0',\n",
       "  'State': 'NM\\xa0',\n",
       "  'Status': 'Active\\xa0 ',\n",
       "  'Type': 'Surface             '},\n",
       " {'CM*': 'M\\xa0',\n",
       "  'Commodity': 'Construction Sand and Gravel\\xa0 ',\n",
       "  'ID': '4300768',\n",
       "  'Mine Name': 'Pettibone Jaw Crusher',\n",
       "  'Operator': 'SIMPSON DIRTWORX LLC \\xa0',\n",
       "  'State': 'VT\\xa0',\n",
       "  'Status': 'Intermittent\\xa0 ',\n",
       "  'Type': 'Surface             '},\n",
       " {'CM*': 'M\\xa0',\n",
       "  'Commodity': 'Construction Sand and Gravel\\xa0 ',\n",
       "  'ID': '4300776',\n",
       "  'Mine Name': 'Chieftan 1400',\n",
       "  'Operator': 'SIMPSON DIRTWORX LLC \\xa0',\n",
       "  'State': 'VT\\xa0',\n",
       "  'Status': 'Intermittent\\xa0 ',\n",
       "  'Type': 'Surface             '},\n",
       " {'CM*': 'M\\xa0',\n",
       "  'Commodity': 'Construction Sand and Gravel\\xa0 ',\n",
       "  'ID': '2302283',\n",
       "  'Mine Name': \"Mike's Money Pit\",\n",
       "  'Operator': \"Spry's Dirt & Gravel, Inc. \\xa0\",\n",
       "  'State': 'MO\\xa0',\n",
       "  'Status': 'Intermittent\\xa0 ',\n",
       "  'Type': 'Surface             '},\n",
       " {'CM*': 'M\\xa0',\n",
       "  'Commodity': 'Construction Sand and Gravel\\xa0 ',\n",
       "  'ID': '2103518',\n",
       "  'Mine Name': 'Crusher',\n",
       "  'Operator': 'Vogt Dirt Service \\xa0',\n",
       "  'State': 'MN\\xa0',\n",
       "  'Status': 'Intermittent\\xa0 ',\n",
       "  'Type': 'Surface             '}]"
      ]
     },
     "execution_count": 19,
     "metadata": {},
     "output_type": "execute_result"
    }
   ],
   "source": [
    "lines = result_data[7:-1]\n",
    "mylist = []\n",
    "for line in lines:\n",
    "    dic = {}\n",
    "    dic['ID'] = line.find_all('td')[0].font.text\n",
    "    dic['State'] = line.find_all('td')[1].font.text       \n",
    "    dic['Operator'] = line.find_all('td')[2].font.text\n",
    "    dic['Mine Name'] = line.find_all('td')[3].font.text\n",
    "    dic['Type'] = line.find_all('td')[4].font.text\n",
    "    dic['CM*'] = line.find_all('td')[5].font.text\n",
    "    dic['Status'] = line.find_all('td')[6].font.text\n",
    "    dic['Commodity'] = line.find_all('td')[7].font.text\n",
    "    mylist.append(dic)\n",
    "    \n",
    "mylist\n"
   ]
  },
  {
   "cell_type": "markdown",
   "metadata": {},
   "source": [
    "### Save that to a CSV"
   ]
  },
  {
   "cell_type": "code",
   "execution_count": 20,
   "metadata": {
    "collapsed": true
   },
   "outputs": [],
   "source": [
    "import pandas as pd\n",
    "\n",
    "df = pd.DataFrame(mylist)\n",
    "df.to_csv('dirt_mines.csv', index = False)"
   ]
  },
  {
   "cell_type": "markdown",
   "metadata": {},
   "source": [
    "### Open the CSV file and examine the first few. Make sure you didn't save an extra weird unnamed column."
   ]
  },
  {
   "cell_type": "code",
   "execution_count": null,
   "metadata": {
    "collapsed": true
   },
   "outputs": [],
   "source": []
  }
 ],
 "metadata": {
  "kernelspec": {
   "display_name": "Python 3",
   "language": "python",
   "name": "python3"
  },
  "language_info": {
   "codemirror_mode": {
    "name": "ipython",
    "version": 3
   },
   "file_extension": ".py",
   "mimetype": "text/x-python",
   "name": "python",
   "nbconvert_exporter": "python",
   "pygments_lexer": "ipython3",
   "version": "3.5.0rc2"
  }
 },
 "nbformat": 4,
 "nbformat_minor": 2
}
