{
 "cells": [
  {
   "cell_type": "markdown",
   "metadata": {},
   "source": [
    "# Scraping many pages + Using Selenium\n",
    "\n",
    "## The pages we'll be looking at\n",
    "\n",
    "If I wanted to read specific information about a specfic mine, it takes a few steps. **Do these steps with your browser before you try any programming.**\n",
    "\n",
    "1. Visit the [Mine Data Retrieval System](https://arlweb.msha.gov/drs/drshome.htm)\n",
    "2. Scroll down to **Mine Identification Number (ID) Search**\n",
    "3. Type in a mine ID number, such as `3503598`, click **Search**\n",
    "4. I'm on a page! It lists the MINE NAME and MINE OWNER.\n",
    "\n",
    "After searching for and finding a mine, I can use this page to **find reports about this mine**. Some of the reports are on accidents, violations, inspections, health samples and more. To get those reports:\n",
    "\n",
    "1. Search for a mine (if you haven't already)\n",
    "2. Scroll down and change **Beginning Date** to `1/1/1995` (violation reports begin in 1995, accidents begin in 1983)\n",
    "3. Select the report type of `Violations`\n",
    "4. Click **Get Report**\n",
    "5. I'm on a page! It lists ALL OF THE MINE'S VIOLATIONS.\n",
    "\n",
    "By changing the report type you're searching for you can find all sorts of different data."
   ]
  },
  {
   "cell_type": "markdown",
   "metadata": {},
   "source": [
    "# Researching mine information"
   ]
  },
  {
   "cell_type": "markdown",
   "metadata": {},
   "source": [
    "## Preparation \n",
    "\n",
    "### When you search for information on a specific mine, what URL should Selenium visit first?\n",
    "\n",
    "- *TIP: the answer is NOT `https://arlweb.msha.gov/drs/ASP/BasicMineInfonew.asp`*"
   ]
  },
  {
   "cell_type": "code",
   "execution_count": 142,
   "metadata": {
    "collapsed": true
   },
   "outputs": [],
   "source": [
    "from selenium import webdriver\n",
    "driver = webdriver.Chrome()\n",
    "driver.get(\"https://arlweb.msha.gov/drs/drshome.htm\")\n"
   ]
  },
  {
   "cell_type": "markdown",
   "metadata": {},
   "source": [
    "### How can you identify the text field we're going to type the Mine ID into?\n",
    "\n",
    "Selenium can find elements by:\n",
    "\n",
    "- name\n",
    "- Class\n",
    "- ID\n",
    "- CSS selector (**ASK ME WHAT THIS IS** if you don't know)\n",
    "- XPath (**ASK ME WHAT THIS IS** because you definitely don't know)\n",
    "- Link text\n",
    "- Partial link text\n",
    "\n",
    "So in other words, what's unique about this element?"
   ]
  },
  {
   "cell_type": "code",
   "execution_count": 143,
   "metadata": {
    "collapsed": true
   },
   "outputs": [],
   "source": [
    "from selenium.webdriver.common.keys import Keys\n",
    "#xpath = //*[@id=\"inputdrs\"]\n",
    "id_input = driver.find_element_by_name('MineId')\n",
    "id_input.send_keys(\"3901432\")\n",
    "\n"
   ]
  },
  {
   "cell_type": "markdown",
   "metadata": {},
   "source": [
    "How can you identify the search button we're going to click, or the form we're going to submit?\n",
    "\n",
    "Selenium can submit forms by either\n",
    "\n",
    "- Selecting the form and using `.submit()`, or\n",
    "- Selecting the button and using `.click()`\n",
    "\n",
    "You only need to be able to get **one, not both.**"
   ]
  },
  {
   "cell_type": "code",
   "execution_count": 144,
   "metadata": {
    "collapsed": true
   },
   "outputs": [],
   "source": [
    "search_id = driver.find_element_by_xpath('//*[@id=\"content\"]/table[3]/tbody/tr[3]/td[2]/input')\n",
    "search_id.click()"
   ]
  },
  {
   "cell_type": "markdown",
   "metadata": {},
   "source": [
    "### Use Selenium to search using the mine ID `3901432`. Get me the operator's name by scraping.\n",
    "\n",
    "- *TIP: You can find elements/text using Selenium, or use BeautifulSoup with `doc = BeautifulSoup(driver.page_source)`*"
   ]
  },
  {
   "cell_type": "code",
   "execution_count": 145,
   "metadata": {
    "collapsed": true
   },
   "outputs": [],
   "source": [
    "from bs4 import BeautifulSoup\n",
    "import requests"
   ]
  },
  {
   "cell_type": "code",
   "execution_count": 146,
   "metadata": {},
   "outputs": [
    {
     "data": {
      "text/plain": [
       "'Krueger Brothers Gravel & Dirt '"
      ]
     },
     "execution_count": 146,
     "metadata": {},
     "output_type": "execute_result"
    }
   ],
   "source": [
    "doc = BeautifulSoup(driver.page_source, 'html.parser')\n",
    "doc.find_all('table')[1].find_all('tr')[2].find_all('td')[1].text"
   ]
  },
  {
   "cell_type": "markdown",
   "metadata": {},
   "source": [
    "# Using .apply to find data about SEVERAL mines\n",
    "\n",
    "The file `mines-subset.csv` has a list of mine IDs. We're going to scrape the operator's name for each of those mines.\n",
    "\n",
    "### Open up `mines-subset.csv` and save it into a dataframe"
   ]
  },
  {
   "cell_type": "code",
   "execution_count": 147,
   "metadata": {
    "collapsed": true
   },
   "outputs": [],
   "source": [
    "import pandas as pd\n",
    "import matplotlib.pyplot as plt\n",
    "%matplotlib inline"
   ]
  },
  {
   "cell_type": "code",
   "execution_count": 148,
   "metadata": {},
   "outputs": [
    {
     "data": {
      "text/html": [
       "<div>\n",
       "<style>\n",
       "    .dataframe thead tr:only-child th {\n",
       "        text-align: right;\n",
       "    }\n",
       "\n",
       "    .dataframe thead th {\n",
       "        text-align: left;\n",
       "    }\n",
       "\n",
       "    .dataframe tbody tr th {\n",
       "        vertical-align: top;\n",
       "    }\n",
       "</style>\n",
       "<table border=\"1\" class=\"dataframe\">\n",
       "  <thead>\n",
       "    <tr style=\"text-align: right;\">\n",
       "      <th></th>\n",
       "      <th>id</th>\n",
       "    </tr>\n",
       "  </thead>\n",
       "  <tbody>\n",
       "    <tr>\n",
       "      <th>0</th>\n",
       "      <td>4104757</td>\n",
       "    </tr>\n",
       "    <tr>\n",
       "      <th>1</th>\n",
       "      <td>0801306</td>\n",
       "    </tr>\n",
       "    <tr>\n",
       "      <th>2</th>\n",
       "      <td>3609931</td>\n",
       "    </tr>\n",
       "  </tbody>\n",
       "</table>\n",
       "</div>"
      ],
      "text/plain": [
       "        id\n",
       "0  4104757\n",
       "1  0801306\n",
       "2  3609931"
      ]
     },
     "execution_count": 148,
     "metadata": {},
     "output_type": "execute_result"
    }
   ],
   "source": [
    "df = pd.read_csv(\"mines-subset.csv\", dtype = {'id' :'str'})\n",
    "df"
   ]
  },
  {
   "cell_type": "markdown",
   "metadata": {},
   "source": [
    "### Open up `mines-subset.csv` in a text editor, then look at your dataframe. Is something different about them?"
   ]
  },
  {
   "cell_type": "code",
   "execution_count": 149,
   "metadata": {
    "collapsed": true
   },
   "outputs": [],
   "source": [
    "#id\n",
    "#4104757\n",
    "#0801306\n",
    "#3609931"
   ]
  },
  {
   "cell_type": "code",
   "execution_count": 150,
   "metadata": {},
   "outputs": [
    {
     "name": "stdout",
     "output_type": "stream",
     "text": [
      "4104757\n",
      "0801306\n",
      "3609931\n"
     ]
    },
    {
     "data": {
      "text/plain": [
       "0    None\n",
       "1    None\n",
       "2    None\n",
       "dtype: object"
      ]
     },
     "execution_count": 150,
     "metadata": {},
     "output_type": "execute_result"
    }
   ],
   "source": [
    "def printrow(row):\n",
    "    print(row['id'])\n",
    "    \n",
    "df.apply(printrow, axis = 1)"
   ]
  },
  {
   "cell_type": "markdown",
   "metadata": {},
   "source": [
    "### Scrape the operator's name for each of those mines and print it\n",
    "\n",
    "- *TIP: use .apply and a function*\n",
    "- *TIP: If you need help with .apply, look at the \"Using apply in pandas\" notebook *"
   ]
  },
  {
   "cell_type": "code",
   "execution_count": 151,
   "metadata": {},
   "outputs": [
    {
     "name": "stdout",
     "output_type": "stream",
     "text": [
      "Dirt Works\n",
      "4104757\n",
      "Holley Dirt Company, Inc\n",
      "0801306\n",
      "M.R. Dirt Inc.\n",
      "3609931\n"
     ]
    }
   ],
   "source": [
    "def getoperator(row):\n",
    "    driver = webdriver.Chrome()\n",
    "    driver.get(\"https://arlweb.msha.gov/drs/drshome.htm\")\n",
    "    \n",
    "    id_input = driver.find_element_by_name('MineId')\n",
    "    id_input.send_keys(row['id'])\n",
    "    \n",
    "    search_id = driver.find_element_by_xpath('//*[@id=\"content\"]/table[3]/tbody/tr[3]/td[2]/input')\n",
    "    search_id.click()\n",
    "    \n",
    "    name_tag = driver.find_element_by_xpath('//*[@id=\"content\"]/form[1]/table[1]/tbody/tr[3]/td[2]/font/b')\n",
    "    print(name_tag.text)\n",
    "    print(row['id'])\n",
    "\n",
    "driver = webdriver.Chrome()\n",
    "df.apply(getoperator, axis=1)\n",
    "driver.close()"
   ]
  },
  {
   "cell_type": "markdown",
   "metadata": {},
   "source": [
    "### Scrape the operator's name and save it into a new column\n",
    "\n",
    "- *TIP: Use .apply and a function*\n",
    "- *TIP: Remember to use `return`*"
   ]
  },
  {
   "cell_type": "code",
   "execution_count": 152,
   "metadata": {},
   "outputs": [],
   "source": [
    "def setoperator(row):\n",
    "    driver.get(\"https://arlweb.msha.gov/drs/drshome.htm\")\n",
    "    \n",
    "    id_input = driver.find_element_by_name('MineId')\n",
    "    id_input.send_keys(row['id'])\n",
    "    \n",
    "    search_id = driver.find_element_by_xpath('//*[@id=\"content\"]/table[3]/tbody/tr[3]/td[2]/input')\n",
    "    search_id.click()\n",
    "    \n",
    "    name_tag = driver.find_element_by_xpath('//*[@id=\"content\"]/form[1]/table[1]/tbody/tr[3]/td[2]/font/b')\n",
    "    return name_tag.text\n",
    "\n",
    "driver = webdriver.Chrome()\n",
    "df['operator'] = df.apply(setoperator, axis = 1)\n",
    "driver.close()"
   ]
  },
  {
   "cell_type": "code",
   "execution_count": 153,
   "metadata": {},
   "outputs": [
    {
     "data": {
      "text/html": [
       "<div>\n",
       "<style>\n",
       "    .dataframe thead tr:only-child th {\n",
       "        text-align: right;\n",
       "    }\n",
       "\n",
       "    .dataframe thead th {\n",
       "        text-align: left;\n",
       "    }\n",
       "\n",
       "    .dataframe tbody tr th {\n",
       "        vertical-align: top;\n",
       "    }\n",
       "</style>\n",
       "<table border=\"1\" class=\"dataframe\">\n",
       "  <thead>\n",
       "    <tr style=\"text-align: right;\">\n",
       "      <th></th>\n",
       "      <th>id</th>\n",
       "      <th>operator</th>\n",
       "    </tr>\n",
       "  </thead>\n",
       "  <tbody>\n",
       "    <tr>\n",
       "      <th>0</th>\n",
       "      <td>4104757</td>\n",
       "      <td>Dirt Works</td>\n",
       "    </tr>\n",
       "    <tr>\n",
       "      <th>1</th>\n",
       "      <td>0801306</td>\n",
       "      <td>Holley Dirt Company, Inc</td>\n",
       "    </tr>\n",
       "    <tr>\n",
       "      <th>2</th>\n",
       "      <td>3609931</td>\n",
       "      <td>M.R. Dirt Inc.</td>\n",
       "    </tr>\n",
       "  </tbody>\n",
       "</table>\n",
       "</div>"
      ],
      "text/plain": [
       "        id                  operator\n",
       "0  4104757                Dirt Works\n",
       "1  0801306  Holley Dirt Company, Inc\n",
       "2  3609931            M.R. Dirt Inc."
      ]
     },
     "execution_count": 153,
     "metadata": {},
     "output_type": "execute_result"
    }
   ],
   "source": [
    "df"
   ]
  },
  {
   "cell_type": "markdown",
   "metadata": {},
   "source": [
    "# Researching mine violations\n",
    "\n",
    "Read the very top again to remember how to find mine violations"
   ]
  },
  {
   "cell_type": "markdown",
   "metadata": {},
   "source": [
    "### When you search for a mine's violations, what URL is Selenium going to start on?\n",
    "\n",
    "- *TIP: `requests` can send form data to load in the middle of a bunch of steps, but Selenium has to start at the beginning"
   ]
  },
  {
   "cell_type": "code",
   "execution_count": 154,
   "metadata": {
    "collapsed": true
   },
   "outputs": [],
   "source": [
    "#https://arlweb.msha.gov/drs/drshome.htm"
   ]
  },
  {
   "cell_type": "markdown",
   "metadata": {},
   "source": [
    "### When you're searching for violations from the Mine Information page, how are you going to identify the \"Beginning Date\" field?"
   ]
  },
  {
   "cell_type": "code",
   "execution_count": 155,
   "metadata": {
    "collapsed": true
   },
   "outputs": [],
   "source": [
    "#name = BDate"
   ]
  },
  {
   "cell_type": "markdown",
   "metadata": {},
   "source": [
    "### When you're searching for violations from the Mine Information page, how are you going to identify the \"Violations\" button?"
   ]
  },
  {
   "cell_type": "code",
   "execution_count": 156,
   "metadata": {
    "collapsed": true
   },
   "outputs": [],
   "source": [
    "#//*[@id=\"content\"]/form[1]/table[3]/tbody/tr[2]/td[2]/table/tbody/tr[1]/td/input"
   ]
  },
  {
   "cell_type": "markdown",
   "metadata": {
    "collapsed": true
   },
   "source": [
    "### When you're searching for violations from the Mine Information page, how are you going to identify the form or the button to click to get a list of the violations?"
   ]
  },
  {
   "cell_type": "code",
   "execution_count": 157,
   "metadata": {
    "collapsed": true
   },
   "outputs": [],
   "source": [
    "#//*[@id=\"content\"]/form[1]/table[3]/tbody/tr[3]/td[2]/input"
   ]
  },
  {
   "cell_type": "markdown",
   "metadata": {},
   "source": [
    "### Using the mine ID `3901432`, scrape all of their violations since 1/1/1995\n",
    "\n",
    "**Save this into a CSV called `3901432-violations.csv`.** This CSV must include the following fields:\n",
    "\n",
    "- Citation number\n",
    "- Case number\n",
    "- Standard violated\n",
    "- Link to standard\n",
    "- Proposed penalty\n",
    "- Amount paid to date\n",
    "\n",
    "**Tips:**\n",
    "\n",
    "- *TIP: It's probably worth it to print them all first, then save them to a CSV once you know it's all working.*\n",
    "- *TIP: You'll use the parent pattern - get the ROWS first (tr), then loop through and get the TABLE CELLS (td)*"
   ]
  },
  {
   "cell_type": "code",
   "execution_count": 158,
   "metadata": {},
   "outputs": [],
   "source": [
    "driver = webdriver.Chrome()\n",
    "driver.get(\"https://arlweb.msha.gov/drs/drshome.htm\")\n",
    "\n",
    "id_input = driver.find_element_by_name('MineId')\n",
    "id_input.send_keys(\"3901432\")\n",
    "\n",
    "search_id = driver.find_element_by_xpath('//*[@id=\"content\"]/table[3]/tbody/tr[3]/td[2]/input')\n",
    "search_id.click()\n",
    "\n",
    "beginning = driver.find_element_by_name('BDate')\n",
    "beginning.send_keys('1/1/1995')\n",
    "\n",
    "button = driver.find_element_by_xpath('//*[@id=\"content\"]/form[1]/table[3]/tbody/tr[2]/td[2]/table/tbody/tr[1]/td/input')\n",
    "button.click()\n",
    "\n",
    "button2 = driver.find_element_by_xpath('//*[@id=\"content\"]/form[1]/table[3]/tbody/tr[3]/td[2]/input')\n",
    "button2.click()\n",
    "\n",
    "\n"
   ]
  },
  {
   "cell_type": "code",
   "execution_count": 159,
   "metadata": {
    "collapsed": true
   },
   "outputs": [],
   "source": [
    "doc = BeautifulSoup(driver.page_source, 'html.parser')"
   ]
  },
  {
   "cell_type": "code",
   "execution_count": 160,
   "metadata": {},
   "outputs": [
    {
     "data": {
      "text/plain": [
       "[{'Amount paid to date': '100.00',\n",
       "  'Case number': '000361866',\n",
       "  'Proposed penalty': '100.00',\n",
       "  'Standard violated': '56.18010',\n",
       "  'citation number': '8750964',\n",
       "  'link to standard': 'http://www.gpo.gov/fdsys/pkg/CFR-2014-title30-vol1/pdf/CFR-2014-title30-vol1-sec56-18010.pdf'},\n",
       " {'Amount paid to date': '100.00',\n",
       "  'Case number': '000260865',\n",
       "  'Proposed penalty': '100.00',\n",
       "  'Standard violated': '56.4201(a)(2)',\n",
       "  'citation number': '6426439',\n",
       "  'link to standard': 'http://www.gpo.gov/fdsys/pkg/CFR-2011-title30-vol1/pdf/CFR-2011-title30-vol1-sec56-4201.pdf'},\n",
       " {'Amount paid to date': '100.00',\n",
       "  'Case number': '000260865',\n",
       "  'Proposed penalty': '100.00',\n",
       "  'Standard violated': '56.4101',\n",
       "  'citation number': '6426438',\n",
       "  'link to standard': 'http://www.gpo.gov/fdsys/pkg/CFR-2011-title30-vol1/pdf/CFR-2011-title30-vol1-sec56-4101.pdf'},\n",
       " {'Amount paid to date': '100.00',\n",
       "  'Case number': '000260865',\n",
       "  'Proposed penalty': '100.00',\n",
       "  'Standard violated': '56.14200',\n",
       "  'citation number': '6588189',\n",
       "  'link to standard': 'http://www.gpo.gov/fdsys/pkg/CFR-2011-title30-vol1/pdf/CFR-2011-title30-vol1-sec56-14200.pdf'},\n",
       " {'Amount paid to date': '100.00',\n",
       "  'Case number': '000238554',\n",
       "  'Proposed penalty': '100.00',\n",
       "  'Standard violated': '50.30(a)',\n",
       "  'citation number': '6588210',\n",
       "  'link to standard': 'http://www.gpo.gov/fdsys/pkg/CFR-2010-title30-vol1/pdf/CFR-2010-title30-vol1-sec50-30.pdf'},\n",
       " {'Amount paid to date': '100.00',\n",
       "  'Case number': '000188398',\n",
       "  'Proposed penalty': '100.00',\n",
       "  'Standard violated': '56.11003',\n",
       "  'citation number': '6328074',\n",
       "  'link to standard': 'http://www.gpo.gov/fdsys/pkg/CFR-2009-title30-vol1/pdf/CFR-2009-title30-vol1-sec56-11003.pdf'},\n",
       " {'Amount paid to date': '55.00',\n",
       "  'Case number': '390143205501',\n",
       "  'Proposed penalty': '55.00',\n",
       "  'Standard violated': '56.14132(a)',\n",
       "  'citation number': '7916124',\n",
       "  'link to standard': 'http://www.gpo.gov/fdsys/pkg/CFR-1998-title30-vol1/pdf/CFR-1998-title30-vol1-sec56-14132.pdf'},\n",
       " {'Amount paid to date': '55.00',\n",
       "  'Case number': '390143205501',\n",
       "  'Proposed penalty': '55.00',\n",
       "  'Standard violated': '56.18002',\n",
       "  'citation number': '7916121',\n",
       "  'link to standard': 'http://www.gpo.gov/fdsys/pkg/CFR-1998-title30-vol1/pdf/CFR-1998-title30-vol1-sec56-18002.pdf'},\n",
       " {'Amount paid to date': '55.00',\n",
       "  'Case number': '390143205501',\n",
       "  'Proposed penalty': '55.00',\n",
       "  'Standard violated': '56.15001',\n",
       "  'citation number': '7916120',\n",
       "  'link to standard': 'http://www.gpo.gov/fdsys/pkg/CFR-1998-title30-vol1/pdf/CFR-1998-title30-vol1-sec56-15001.pdf'},\n",
       " {'Amount paid to date': '55.00',\n",
       "  'Case number': '390143205501',\n",
       "  'Proposed penalty': '55.00',\n",
       "  'Standard violated': '56.14100(d)',\n",
       "  'citation number': '7916126',\n",
       "  'link to standard': 'http://www.gpo.gov/fdsys/pkg/CFR-1998-title30-vol1/pdf/CFR-1998-title30-vol1-sec56-14100.pdf'},\n",
       " {'Amount paid to date': '55.00',\n",
       "  'Case number': '390143205501',\n",
       "  'Proposed penalty': '55.00',\n",
       "  'Standard violated': '56.1000',\n",
       "  'citation number': '7916117',\n",
       "  'link to standard': 'http://www.gpo.gov/fdsys/pkg/CFR-1998-title30-vol1/pdf/CFR-1998-title30-vol1-sec56-1000.pdf'},\n",
       " {'Amount paid to date': '55.00',\n",
       "  'Case number': '390143205501',\n",
       "  'Proposed penalty': '55.00',\n",
       "  'Standard violated': '41.20',\n",
       "  'citation number': '7916115',\n",
       "  'link to standard': 'http://www.gpo.gov/fdsys/pkg/CFR-1998-title30-vol1/pdf/CFR-1998-title30-vol1-sec41-20.pdf'},\n",
       " {'Amount paid to date': '55.00',\n",
       "  'Case number': '390143205501',\n",
       "  'Proposed penalty': '55.00',\n",
       "  'Standard violated': '56.14132(a)',\n",
       "  'citation number': '7916123',\n",
       "  'link to standard': 'http://www.gpo.gov/fdsys/pkg/CFR-1998-title30-vol1/pdf/CFR-1998-title30-vol1-sec56-14132.pdf'},\n",
       " {'Amount paid to date': '55.00',\n",
       "  'Case number': '390143205501',\n",
       "  'Proposed penalty': '55.00',\n",
       "  'Standard violated': '56.12028',\n",
       "  'citation number': '7916118',\n",
       "  'link to standard': 'http://www.gpo.gov/fdsys/pkg/CFR-1998-title30-vol1/pdf/CFR-1998-title30-vol1-sec56-12028.pdf'},\n",
       " {'Amount paid to date': '55.00',\n",
       "  'Case number': '390143205501',\n",
       "  'Proposed penalty': '55.00',\n",
       "  'Standard violated': '50.30',\n",
       "  'citation number': '7916116',\n",
       "  'link to standard': 'http://www.gpo.gov/fdsys/pkg/CFR-1998-title30-vol1/pdf/CFR-1998-title30-vol1-sec50-30.pdf'},\n",
       " {'Amount paid to date': '55.00',\n",
       "  'Case number': '390143205502',\n",
       "  'Proposed penalty': '55.00',\n",
       "  'Standard violated': '56.18010',\n",
       "  'citation number': '7916119',\n",
       "  'link to standard': 'http://www.gpo.gov/fdsys/pkg/CFR-1998-title30-vol1/pdf/CFR-1998-title30-vol1-sec56-18010.pdf'},\n",
       " {'Amount paid to date': '55.00',\n",
       "  'Case number': '390143205501',\n",
       "  'Proposed penalty': '55.00',\n",
       "  'Standard violated': '56.20008',\n",
       "  'citation number': '7916122',\n",
       "  'link to standard': 'http://www.gpo.gov/fdsys/pkg/CFR-1998-title30-vol1/pdf/CFR-1998-title30-vol1-sec56-20008.pdf'},\n",
       " {'Amount paid to date': '55.00',\n",
       "  'Case number': '390143205501',\n",
       "  'Proposed penalty': '55.00',\n",
       "  'Standard violated': '56.4200',\n",
       "  'citation number': '7916125',\n",
       "  'link to standard': 'http://www.gpo.gov/fdsys/pkg/CFR-1998-title30-vol1/pdf/CFR-1998-title30-vol1-sec56-4200.pdf'}]"
      ]
     },
     "execution_count": 160,
     "metadata": {},
     "output_type": "execute_result"
    }
   ],
   "source": [
    "lines = doc.find_all('tr', class_= 'drsviols')\n",
    "mylist = []\n",
    "for line in lines:\n",
    "    dic = {}\n",
    "    cells = line.find_all('td')\n",
    "    dic['citation number'] = cells[2].text.strip()\n",
    "    dic['Case number'] = cells[3].text.strip()\n",
    "    if (cells[10].a):\n",
    "        dic['Standard violated'] = cells[10].a.text.strip()\n",
    "        dic['link to standard'] = cells[10].find('a')['href']\n",
    "    dic['Proposed penalty'] = cells[11].text.strip()\n",
    "    dic['Amount paid to date'] = cells[-1].text.strip()\n",
    "    mylist.append(dic)\n",
    "\n",
    "mylist\n",
    "    "
   ]
  },
  {
   "cell_type": "code",
   "execution_count": 161,
   "metadata": {
    "collapsed": true
   },
   "outputs": [],
   "source": [
    "import pandas as pd\n",
    "\n",
    "df2 = pd.DataFrame(mylist)\n",
    "df2.to_csv('3901432-violations.csv', index = False)"
   ]
  },
  {
   "cell_type": "markdown",
   "metadata": {},
   "source": [
    "# Using .apply to save mine data for SEVERAL mines\n",
    "\n",
    "The file `mines-subset.csv` has a list of mine IDs. We're going to scrape the operator's name for each of those mines.\n",
    "\n",
    "### Open up `mines-subset.csv` and save it into a dataframe"
   ]
  },
  {
   "cell_type": "code",
   "execution_count": 162,
   "metadata": {},
   "outputs": [
    {
     "data": {
      "text/html": [
       "<div>\n",
       "<style>\n",
       "    .dataframe thead tr:only-child th {\n",
       "        text-align: right;\n",
       "    }\n",
       "\n",
       "    .dataframe thead th {\n",
       "        text-align: left;\n",
       "    }\n",
       "\n",
       "    .dataframe tbody tr th {\n",
       "        vertical-align: top;\n",
       "    }\n",
       "</style>\n",
       "<table border=\"1\" class=\"dataframe\">\n",
       "  <thead>\n",
       "    <tr style=\"text-align: right;\">\n",
       "      <th></th>\n",
       "      <th>id</th>\n",
       "      <th>operator</th>\n",
       "    </tr>\n",
       "  </thead>\n",
       "  <tbody>\n",
       "    <tr>\n",
       "      <th>0</th>\n",
       "      <td>4104757</td>\n",
       "      <td>Dirt Works</td>\n",
       "    </tr>\n",
       "    <tr>\n",
       "      <th>1</th>\n",
       "      <td>0801306</td>\n",
       "      <td>Holley Dirt Company, Inc</td>\n",
       "    </tr>\n",
       "    <tr>\n",
       "      <th>2</th>\n",
       "      <td>3609931</td>\n",
       "      <td>M.R. Dirt Inc.</td>\n",
       "    </tr>\n",
       "  </tbody>\n",
       "</table>\n",
       "</div>"
      ],
      "text/plain": [
       "        id                  operator\n",
       "0  4104757                Dirt Works\n",
       "1  0801306  Holley Dirt Company, Inc\n",
       "2  3609931            M.R. Dirt Inc."
      ]
     },
     "execution_count": 162,
     "metadata": {},
     "output_type": "execute_result"
    }
   ],
   "source": [
    "df"
   ]
  },
  {
   "cell_type": "markdown",
   "metadata": {},
   "source": [
    "### Scrape the violations for each mine\n",
    "\n",
    "**Save each mine's violations into separate CSV files.** Each CSV file must include the following fields:\n",
    "\n",
    "- Citation number\n",
    "- Case number\n",
    "- Standard violated\n",
    "- Link to standard\n",
    "- Proposed penalty\n",
    "- Amount paid to date\n",
    "\n",
    "Make sure you are saving them into **separate files.** It might be nice to name them after the mine id.\n",
    "\n",
    "- *TIP: Use .apply for this*\n",
    "- *TIP: Print out the ID before you start scraping. That way you can take that ID and search manually to see if there is anything weird about the results.*\n",
    "- *TIP: If you need help with .apply, look at the \"Using apply in pandas\" notebook \n",
    "- *TIP: It's probably worth it to print the fields first, then save them to a CSV once you know it's all working.*"
   ]
  },
  {
   "cell_type": "code",
   "execution_count": 163,
   "metadata": {},
   "outputs": [
    {
     "data": {
      "text/plain": [
       "0    None\n",
       "1    None\n",
       "2    None\n",
       "dtype: object"
      ]
     },
     "execution_count": 163,
     "metadata": {},
     "output_type": "execute_result"
    }
   ],
   "source": [
    "def violations(row):\n",
    "    driver = webdriver.Chrome()\n",
    "    driver.get(\"https://arlweb.msha.gov/drs/drshome.htm\")\n",
    "    \n",
    "    id_input = driver.find_element_by_name('MineId')\n",
    "    id_input.send_keys(row['id'])\n",
    "    \n",
    "    search_id = driver.find_element_by_xpath('//*[@id=\"content\"]/table[3]/tbody/tr[3]/td[2]/input')\n",
    "    search_id.click()\n",
    "    \n",
    "    beginning = driver.find_element_by_name('BDate')\n",
    "    beginning.send_keys('1/1/1995')\n",
    "\n",
    "    button = driver.find_element_by_xpath('//*[@id=\"content\"]/form[1]/table[3]/tbody/tr[2]/td[2]/table/tbody/tr[1]/td/input')\n",
    "    button.click()\n",
    "\n",
    "    button2 = driver.find_element_by_xpath('//*[@id=\"content\"]/form[1]/table[3]/tbody/tr[3]/td[2]/input')\n",
    "    button2.click()\n",
    "\n",
    "    doc = BeautifulSoup(driver.page_source, 'html.parser')\n",
    "    lines = doc.find_all('tr', class_= 'drsviols')\n",
    "    \n",
    "    mylist = []\n",
    "    for line in lines:\n",
    "        dic = {}\n",
    "        cells = line.find_all('td')\n",
    "        dic['citation number'] = cells[2].text.strip()\n",
    "        dic['Case number'] = cells[3].text.strip()\n",
    "        if (cells[10].a):\n",
    "            dic['Standard violated'] = cells[10].a.text.strip()\n",
    "            dic['link to standard'] = cells[10].find('a')['href']\n",
    "        dic['Proposed penalty'] = cells[11].text.strip()\n",
    "        dic['Amount paid to date'] = cells[-1].text.strip()\n",
    "        mylist.append(dic)\n",
    "\n",
    "    df = pd.DataFrame(mylist)\n",
    "    df.to_csv(row['id']+'violations.csv', index = False)\n",
    "    driver.close()\n",
    "    \n",
    "df.apply(violations, axis = 1)\n",
    "    \n",
    "    \n",
    "\n"
   ]
  },
  {
   "cell_type": "code",
   "execution_count": null,
   "metadata": {
    "collapsed": true
   },
   "outputs": [],
   "source": []
  }
 ],
 "metadata": {
  "kernelspec": {
   "display_name": "Python 3",
   "language": "python",
   "name": "python3"
  },
  "language_info": {
   "codemirror_mode": {
    "name": "ipython",
    "version": 3
   },
   "file_extension": ".py",
   "mimetype": "text/x-python",
   "name": "python",
   "nbconvert_exporter": "python",
   "pygments_lexer": "ipython3",
   "version": "3.5.0rc2"
  }
 },
 "nbformat": 4,
 "nbformat_minor": 2
}
